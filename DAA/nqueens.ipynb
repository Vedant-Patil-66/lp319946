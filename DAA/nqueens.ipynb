{
 "cells": [
  {
   "cell_type": "code",
   "execution_count": 2,
   "id": "562237a2-b000-4654-9ac6-03cc2da4ac79",
   "metadata": {},
   "outputs": [
    {
     "name": "stdout",
     "output_type": "stream",
     "text": [
      "N Queen Backtracking Solution:\n",
      "Given initial position of 1st queen at row: 3 column: 2 \n",
      "\n",
      "1 0 0 0 0 0 0 0\n",
      "0 0 0 0 0 1 0 0\n",
      "0 0 0 0 0 0 0 1\n",
      "0 0 1 0 0 0 0 0\n",
      "0 0 0 0 0 0 1 0\n",
      "0 0 0 1 0 0 0 0\n",
      "0 1 0 0 0 0 0 0\n",
      "0 0 0 0 1 0 0 0\n"
     ]
    }
   ],
   "source": [
    "class NQBacktracking:\n",
    "    def __init__(self, x_, y_):\n",
    "        self.ld = [0] * 30\n",
    "        self.rd = [0] * 30\n",
    "        self.cl = [0] * 30\n",
    "        self.x = x_\n",
    "        self.y = y_\n",
    "\n",
    "    def printSolution(self, board):\n",
    "        print(\n",
    "            \"N Queen Backtracking Solution:\\nGiven initial position of 1st queen at row:\",\n",
    "            self.x,\n",
    "            \"column:\",\n",
    "            self.y,\n",
    "            \"\\n\",\n",
    "        )\n",
    "        for line in board:\n",
    "            print(\" \".join(map(str, line)))\n",
    "\n",
    "    def solveNQUtil(self, board, col):\n",
    "        if col >= N:\n",
    "            return True\n",
    "\n",
    "        if col == self.y:\n",
    "            return self.solveNQUtil(board, col + 1)\n",
    "\n",
    "        for i in range(N):\n",
    "            if i == self.x:\n",
    "                continue\n",
    "\n",
    "            if (self.ld[i - col + N - 1] != 1 and \n",
    "                self.rd[i + col] != 1 and \n",
    "                self.cl[i] != 1):\n",
    "                board[i][col] = 1\n",
    "                self.ld[i - col + N - 1] = self.rd[i + col] = self.cl[i] = 1\n",
    "\n",
    "                if self.solveNQUtil(board, col + 1):\n",
    "                    return True\n",
    "                board[i][col] = 0\n",
    "                self.ld[i - col + N - 1] = self.rd[i + col] = self.cl[i] = 0\n",
    "\n",
    "        return False\n",
    "\n",
    "    def solveNQ(self):\n",
    "        board = [[0 for _ in range(N)] for _ in range(N)]\n",
    "        \n",
    "        board[self.x][self.y] = 1\n",
    "        self.ld[self.x - self.y + N - 1] = self.rd[self.x + self.y] = self.cl[self.x] = 1\n",
    "\n",
    "        if not self.solveNQUtil(board, 0):\n",
    "            print(\"Solution does not exist\")\n",
    "            return False\n",
    "\n",
    "        self.printSolution(board)\n",
    "        return True\n",
    "\n",
    "if __name__ == \"__main__\":\n",
    "    N = 8  \n",
    "    x, y = 3, 2\n",
    "    NQBt = NQBacktracking(x, y)\n",
    "    NQBt.solveNQ()\n"
   ]
  },
  {
   "cell_type": "code",
   "execution_count": null,
   "id": "8e220331-d55a-434d-90ed-697c61f393d5",
   "metadata": {},
   "outputs": [],
   "source": []
  }
 ],
 "metadata": {
  "kernelspec": {
   "display_name": "Python 3 (ipykernel)",
   "language": "python",
   "name": "python3"
  },
  "language_info": {
   "codemirror_mode": {
    "name": "ipython",
    "version": 3
   },
   "file_extension": ".py",
   "mimetype": "text/x-python",
   "name": "python",
   "nbconvert_exporter": "python",
   "pygments_lexer": "ipython3",
   "version": "3.11.7"
  }
 },
 "nbformat": 4,
 "nbformat_minor": 5
}
