{
 "cells": [
  {
   "cell_type": "code",
   "execution_count": 1,
   "id": "bfff1367-237e-40a0-a5f4-0dc50ccfa7f9",
   "metadata": {},
   "outputs": [
    {
     "name": "stdout",
     "output_type": "stream",
     "text": [
      "Maximum possible profit = 220\n"
     ]
    }
   ],
   "source": [
    "def knapsack_dp(W, wt, val, n):\n",
    "    \n",
    "    K = [[0 for x in range(W + 1)] for x in range(n + 1)]\n",
    "    \n",
    "    for i in range(n + 1):\n",
    "        for w in range(W + 1):\n",
    "            if i == 0 or w == 0:\n",
    "                K[i][w] = 0\n",
    "            elif wt[i - 1] <= w:\n",
    "                K[i][w] = max(val[i - 1] + K[i - 1][w - wt[i - 1]], K[i - 1][w])\n",
    "            else:\n",
    "                K[i][w] = K[i - 1][w]\n",
    "    \n",
    "    return K[n][W]\n",
    "\n",
    "val = [60, 100, 120]\n",
    "wt = [10, 20, 30]     \n",
    "W = 50\n",
    "n = len(val)          \n",
    "\n",
    "print(\"Maximum possible profit =\", knapsack_dp(W, wt, val, n))\n"
   ]
  },
  {
   "cell_type": "code",
   "execution_count": null,
   "id": "9586b04a-4ff3-44f0-8af9-c9aaa15f6c05",
   "metadata": {},
   "outputs": [],
   "source": []
  }
 ],
 "metadata": {
  "kernelspec": {
   "display_name": "Python 3 (ipykernel)",
   "language": "python",
   "name": "python3"
  },
  "language_info": {
   "codemirror_mode": {
    "name": "ipython",
    "version": 3
   },
   "file_extension": ".py",
   "mimetype": "text/x-python",
   "name": "python",
   "nbconvert_exporter": "python",
   "pygments_lexer": "ipython3",
   "version": "3.11.7"
  }
 },
 "nbformat": 4,
 "nbformat_minor": 5
}
