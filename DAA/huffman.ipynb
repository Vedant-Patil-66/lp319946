{
 "cells": [
  {
   "cell_type": "code",
   "execution_count": 1,
   "id": "74cb2a23-7cad-49ca-a0df-ee693d63b51a",
   "metadata": {},
   "outputs": [
    {
     "name": "stdout",
     "output_type": "stream",
     "text": [
      "Characters : [a, b, c, d, e, f]\n",
      "Frequency : [5, 9, 12, 13, 16, 45] \n",
      "\n",
      "Huffman Encoding:\n",
      "f -> 0\n",
      "c -> 100\n",
      "d -> 101\n",
      "a -> 1100\n",
      "b -> 1101\n",
      "e -> 111\n"
     ]
    }
   ],
   "source": [
    "class Node:\n",
    "    def __init__(self, freq_, symbol_, left_=None, right_=None):\n",
    "        self.freq = freq_\n",
    "        self.symbol = symbol_\n",
    "        self.left = left_\n",
    "        self.right = right_\n",
    "        self.huff = \"\"\n",
    "\n",
    "def print_nodes(node, val=\"\"):\n",
    "    new_val = val + str(node.huff)\n",
    "\n",
    "    if node.left:\n",
    "        print_nodes(node.left, new_val)\n",
    "    if node.right:\n",
    "        print_nodes(node.right, new_val)\n",
    "\n",
    "    if not node.left and not node.right:\n",
    "        print(f\"{node.symbol} -> {new_val}\")\n",
    "\n",
    "chars = [\"a\", \"b\", \"c\", \"d\", \"e\", \"f\"]\n",
    "freq = [5, 9, 12, 13, 16, 45]\n",
    "\n",
    "nodes = [Node(freq[x], chars[x]) for x in range(len(chars))]\n",
    "\n",
    "while len(nodes) > 1:\n",
    "    nodes = sorted(nodes, key=lambda x: x.freq)\n",
    "\n",
    "    left = nodes[0]\n",
    "    right = nodes[1]\n",
    "\n",
    "    left.huff = 0\n",
    "    right.huff = 1\n",
    "\n",
    "    newNode = Node(left.freq + right.freq, left.symbol + right.symbol, left, right)\n",
    "\n",
    "    nodes.remove(left)\n",
    "    nodes.remove(right)\n",
    "    nodes.append(newNode)\n",
    "\n",
    "print(\"Characters :\", f'[{\", \".join(chars)}]')\n",
    "print(\"Frequency :\", freq, \"\\n\\nHuffman Encoding:\")\n",
    "print_nodes(nodes[0])\n"
   ]
  },
  {
   "cell_type": "code",
   "execution_count": null,
   "id": "d92662cf-70a0-4689-9688-d2886cfdd804",
   "metadata": {},
   "outputs": [],
   "source": []
  }
 ],
 "metadata": {
  "kernelspec": {
   "display_name": "Python 3 (ipykernel)",
   "language": "python",
   "name": "python3"
  },
  "language_info": {
   "codemirror_mode": {
    "name": "ipython",
    "version": 3
   },
   "file_extension": ".py",
   "mimetype": "text/x-python",
   "name": "python",
   "nbconvert_exporter": "python",
   "pygments_lexer": "ipython3",
   "version": "3.11.7"
  }
 },
 "nbformat": 4,
 "nbformat_minor": 5
}
