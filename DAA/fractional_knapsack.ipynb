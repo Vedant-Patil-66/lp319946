{
 "cells": [
  {
   "cell_type": "code",
   "execution_count": 1,
   "id": "5c8fbd48-cf65-4cd8-b95e-649a18871fc1",
   "metadata": {},
   "outputs": [
    {
     "name": "stdout",
     "output_type": "stream",
     "text": [
      "Maximum value in Knapsack = 240.0\n"
     ]
    }
   ],
   "source": [
    "class ItemValue:\n",
    "    def __init__(self, wt_, val_, ind_):\n",
    "        self.wt = wt_\n",
    "        self.val = val_\n",
    "        self.ind = ind_\n",
    "        self.cost = val_ / wt_\n",
    "    def __lt__(self, other):\n",
    "        return self.cost < other.cost\n",
    "\n",
    "\n",
    "def fractionalKnapSack(wt, val, capacity):\n",
    "    iVal = [ItemValue(wt[i], val[i], i) for i in range(len(wt))]\n",
    "    \n",
    "    iVal.sort(reverse=True)\n",
    "    \n",
    "    totalValue = 0  \n",
    "\n",
    "    for i in iVal:\n",
    "        curWt = i.wt\n",
    "        curVal = i.val\n",
    "\n",
    "        if capacity - curWt >= 0:\n",
    "            capacity -= curWt\n",
    "            totalValue += curVal\n",
    "        else:\n",
    "            fraction = capacity / curWt\n",
    "            totalValue += curVal * fraction\n",
    "            break  \n",
    "\n",
    "    return totalValue\n",
    "\n",
    "\n",
    "if __name__ == \"__main__\":\n",
    "    wt = [10, 40, 20, 30]  \n",
    "    val = [60, 40, 100, 120]  \n",
    "    capacity = 50  \n",
    "\n",
    "    maxValue = fractionalKnapSack(wt, val, capacity)\n",
    "    print(\"Maximum value in Knapsack =\", maxValue)\n"
   ]
  },
  {
   "cell_type": "code",
   "execution_count": null,
   "id": "a26f7560-d1de-406c-98df-d6ef6fbe212d",
   "metadata": {},
   "outputs": [],
   "source": []
  }
 ],
 "metadata": {
  "kernelspec": {
   "display_name": "Python 3 (ipykernel)",
   "language": "python",
   "name": "python3"
  },
  "language_info": {
   "codemirror_mode": {
    "name": "ipython",
    "version": 3
   },
   "file_extension": ".py",
   "mimetype": "text/x-python",
   "name": "python",
   "nbconvert_exporter": "python",
   "pygments_lexer": "ipython3",
   "version": "3.11.7"
  }
 },
 "nbformat": 4,
 "nbformat_minor": 5
}
